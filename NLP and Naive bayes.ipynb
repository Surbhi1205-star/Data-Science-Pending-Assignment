{
 "cells": [
  {
   "cell_type": "code",
   "execution_count": 15,
   "id": "2f73d612-c8af-4733-8172-68ac8e0a90a3",
   "metadata": {},
   "outputs": [],
   "source": [
    "#!pip install textblob"
   ]
  },
  {
   "cell_type": "code",
   "execution_count": 16,
   "id": "773a5b6d-8ae7-40b2-90b7-d0ad1f5a10a2",
   "metadata": {},
   "outputs": [
    {
     "name": "stderr",
     "output_type": "stream",
     "text": [
      "[nltk_data] Downloading package punkt to\n",
      "[nltk_data]     C:\\Users\\Surbhi\\AppData\\Roaming\\nltk_data...\n",
      "[nltk_data]   Package punkt is already up-to-date!\n",
      "[nltk_data] Downloading package stopwords to\n",
      "[nltk_data]     C:\\Users\\Surbhi\\AppData\\Roaming\\nltk_data...\n",
      "[nltk_data]   Package stopwords is already up-to-date!\n"
     ]
    },
    {
     "data": {
      "text/plain": [
       "True"
      ]
     },
     "execution_count": 16,
     "metadata": {},
     "output_type": "execute_result"
    }
   ],
   "source": [
    "# Import necessary libraries\n",
    "import pandas as pd\n",
    "import numpy as np\n",
    "from sklearn.model_selection import train_test_split\n",
    "from sklearn.feature_extraction.text import TfidfVectorizer\n",
    "from sklearn.naive_bayes import MultinomialNB\n",
    "from sklearn.metrics import accuracy_score, classification_report\n",
    "from nltk.corpus import stopwords\n",
    "from nltk.tokenize import word_tokenize\n",
    "import string\n",
    "import nltk\n",
    "from textblob import TextBlob\n",
    "\n",
    "df = pd.read_csv('blogs.csv')\n",
    "df.head()\n",
    "\n",
    "# Download necessary NLTK data (only needed once)\n",
    "nltk.download('punkt')\n",
    "nltk.download('stopwords')"
   ]
  },
  {
   "cell_type": "code",
   "execution_count": 17,
   "id": "4f080e0f-96ec-49f8-b512-139cce0ef484",
   "metadata": {},
   "outputs": [
    {
     "name": "stdout",
     "output_type": "stream",
     "text": [
      "                                                Data       Labels\n",
      "0  Path: cantaloupe.srv.cs.cmu.edu!magnesium.club...  alt.atheism\n",
      "1  Newsgroups: alt.atheism\\nPath: cantaloupe.srv....  alt.atheism\n",
      "2  Path: cantaloupe.srv.cs.cmu.edu!das-news.harva...  alt.atheism\n",
      "3  Path: cantaloupe.srv.cs.cmu.edu!magnesium.club...  alt.atheism\n",
      "4  Xref: cantaloupe.srv.cs.cmu.edu alt.atheism:53...  alt.atheism\n",
      "<class 'pandas.core.frame.DataFrame'>\n",
      "RangeIndex: 2000 entries, 0 to 1999\n",
      "Data columns (total 2 columns):\n",
      " #   Column  Non-Null Count  Dtype \n",
      "---  ------  --------------  ----- \n",
      " 0   Data    2000 non-null   object\n",
      " 1   Labels  2000 non-null   object\n",
      "dtypes: object(2)\n",
      "memory usage: 31.4+ KB\n",
      "None\n"
     ]
    }
   ],
   "source": [
    "# 1. Data Exploration and Preprocessing\n",
    "# Load the dataset\n",
    "# Assuming the dataframe is already loaded into variable 'df'\n",
    "# df = pd.read_csv(\"blogs_categories.csv\")\n",
    "\n",
    "# Explore the data\n",
    "print(df.head())\n",
    "print(df.info())\n",
    "# Text preprocessing\n",
    "def preprocess_text(text):\n",
    "    # Remove punctuation\n",
    "    text = text.translate(str.maketrans('', '', string.punctuation))\n",
    "    # Convert to lowercase\n",
    "    text = text.lower()\n",
    "    # Tokenize\n",
    "    tokens = word_tokenize(text)\n",
    "    # Remove stopwords\n",
    "    stop_words = set(stopwords.words('english'))\n",
    "    tokens = [word for word in tokens if word not in stop_words]\n",
    "    return ' '.join(tokens)\n",
    "\n",
    "df['processed_text'] = df['Data'].apply(preprocess_text)\n",
    "\n",
    "# Feature extraction using TF-IDF\n",
    "vectorizer = TfidfVectorizer()\n",
    "X = vectorizer.fit_transform(df['processed_text'])\n",
    "y = df['Labels']\n",
    "\n"
   ]
  },
  {
   "cell_type": "code",
   "execution_count": 18,
   "id": "d8d5b2eb-d314-48f4-8002-608675fb51e3",
   "metadata": {},
   "outputs": [
    {
     "name": "stdout",
     "output_type": "stream",
     "text": [
      "Accuracy: 0.82\n",
      "                          precision    recall  f1-score   support\n",
      "\n",
      "             alt.atheism       0.52      0.89      0.65        18\n",
      "           comp.graphics       0.62      0.83      0.71        18\n",
      " comp.os.ms-windows.misc       0.95      0.86      0.90        22\n",
      "comp.sys.ibm.pc.hardware       0.95      0.76      0.84        25\n",
      "   comp.sys.mac.hardware       0.87      0.95      0.91        21\n",
      "          comp.windows.x       1.00      0.80      0.89        25\n",
      "            misc.forsale       0.92      0.61      0.73        18\n",
      "               rec.autos       0.89      0.89      0.89        18\n",
      "         rec.motorcycles       0.88      0.88      0.88        16\n",
      "      rec.sport.baseball       0.80      0.89      0.84        18\n",
      "        rec.sport.hockey       0.83      1.00      0.91        15\n",
      "               sci.crypt       0.82      0.95      0.88        19\n",
      "         sci.electronics       0.68      0.81      0.74        16\n",
      "                 sci.med       0.94      0.88      0.91        17\n",
      "               sci.space       1.00      0.86      0.92        21\n",
      "  soc.religion.christian       0.85      0.96      0.90        23\n",
      "      talk.politics.guns       0.95      0.75      0.84        28\n",
      "   talk.politics.mideast       0.95      0.95      0.95        20\n",
      "      talk.politics.misc       0.57      0.89      0.70        18\n",
      "      talk.religion.misc       0.71      0.21      0.32        24\n",
      "\n",
      "                accuracy                           0.82       400\n",
      "               macro avg       0.84      0.83      0.82       400\n",
      "            weighted avg       0.84      0.82      0.81       400\n",
      "\n"
     ]
    }
   ],
   "source": [
    "# 2. Naive Bayes Model for Text Classification\n",
    "# Split data into training and testing sets\n",
    "X_train, X_test, y_train, y_test = train_test_split(X, y, test_size=0.2, random_state=42)\n",
    "\n",
    "# Train a Naive Bayes classifier\n",
    "nb_classifier = MultinomialNB()\n",
    "nb_classifier.fit(X_train, y_train)\n",
    "\n",
    "# Make predictions\n",
    "y_pred = nb_classifier.predict(X_test)\n",
    "\n",
    "# Evaluate the model\n",
    "accuracy = accuracy_score(y_test, y_pred)\n",
    "print(f\"Accuracy: {accuracy}\")\n",
    "print(classification_report(y_test, y_pred))\n"
   ]
  },
  {
   "cell_type": "code",
   "execution_count": 19,
   "id": "c74f4813-81db-40b9-8992-2bc491934476",
   "metadata": {},
   "outputs": [
    {
     "name": "stdout",
     "output_type": "stream",
     "text": [
      "sentiment\n",
      "positive    1543\n",
      "negative     457\n",
      "Name: count, dtype: int64\n",
      "                                                Data       Labels  \\\n",
      "0  Path: cantaloupe.srv.cs.cmu.edu!magnesium.club...  alt.atheism   \n",
      "1  Newsgroups: alt.atheism\\nPath: cantaloupe.srv....  alt.atheism   \n",
      "2  Path: cantaloupe.srv.cs.cmu.edu!das-news.harva...  alt.atheism   \n",
      "3  Path: cantaloupe.srv.cs.cmu.edu!magnesium.club...  alt.atheism   \n",
      "4  Xref: cantaloupe.srv.cs.cmu.edu alt.atheism:53...  alt.atheism   \n",
      "\n",
      "                                      processed_text sentiment  \n",
      "0  path cantaloupesrvcscmuedumagnesiumclubcccmued...  positive  \n",
      "1  newsgroups altatheism path cantaloupesrvcscmue...  negative  \n",
      "2  path cantaloupesrvcscmuedudasnewsharvardedunoc...  positive  \n",
      "3  path cantaloupesrvcscmuedumagnesiumclubcccmued...  positive  \n",
      "4  xref cantaloupesrvcscmuedu altatheism53485 tal...  positive  \n"
     ]
    }
   ],
   "source": [
    "# 3. Sentiment Analysis\n",
    "def get_sentiment(text):\n",
    "    analysis = TextBlob(text)\n",
    "    if analysis.sentiment.polarity > 0:\n",
    "        return 'positive'\n",
    "    elif analysis.sentiment.polarity < 0:\n",
    "        return 'negative'\n",
    "    else:\n",
    "        return 'neutral'\n",
    "\n",
    "df['sentiment'] = df['Data'].apply(get_sentiment)\n",
    "sentiment_counts = df['sentiment'].value_counts()\n",
    "print(sentiment_counts)\n",
    "print(df.head())"
   ]
  },
  {
   "cell_type": "code",
   "execution_count": null,
   "id": "e8200fc7-903a-4053-9c7d-aede31a37ebf",
   "metadata": {},
   "outputs": [],
   "source": []
  }
 ],
 "metadata": {
  "kernelspec": {
   "display_name": "Python [conda env:base] *",
   "language": "python",
   "name": "conda-base-py"
  },
  "language_info": {
   "codemirror_mode": {
    "name": "ipython",
    "version": 3
   },
   "file_extension": ".py",
   "mimetype": "text/x-python",
   "name": "python",
   "nbconvert_exporter": "python",
   "pygments_lexer": "ipython3",
   "version": "3.12.4"
  }
 },
 "nbformat": 4,
 "nbformat_minor": 5
}
