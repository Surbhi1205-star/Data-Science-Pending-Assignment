{
 "cells": [
  {
   "cell_type": "markdown",
   "id": "b6422673-947a-4bf0-8643-607f4558cecc",
   "metadata": {},
   "source": [
    "1. Data Exploration and Preprocessing:"
   ]
  },
  {
   "cell_type": "code",
   "execution_count": 21,
   "id": "9f4f74f7-0ba7-4b42-9b1f-415ec4dc2341",
   "metadata": {},
   "outputs": [],
   "source": [
    "import pandas as pd\n",
    "import numpy as np\n",
    "from sklearn.preprocessing import StandardScaler, MinMaxScaler, LabelEncoder, OneHotEncoder\n",
    "from sklearn.impute import SimpleImputer"
   ]
  },
  {
   "cell_type": "code",
   "execution_count": 23,
   "id": "10ee61f1-3f1f-4977-a99d-f74199de7558",
   "metadata": {},
   "outputs": [
    {
     "name": "stdout",
     "output_type": "stream",
     "text": [
      "Missing values per column:\n",
      " age               0\n",
      "workclass         0\n",
      "fnlwgt            0\n",
      "education         0\n",
      "education_num     0\n",
      "marital_status    0\n",
      "occupation        0\n",
      "relationship      0\n",
      "race              0\n",
      "sex               0\n",
      "capital_gain      0\n",
      "capital_loss      0\n",
      "hours_per_week    0\n",
      "native_country    0\n",
      "income            0\n",
      "dtype: int64\n"
     ]
    }
   ],
   "source": [
    "# Load dataset\n",
    "df = pd.read_csv(\"adult_with_headers.csv\")\n",
    "\n",
    "# Replace '?' with NaN for proper missing value handling\n",
    "df.replace('?', np.nan, inplace=True)\n",
    "\n",
    "# Check for missing values\n",
    "missing_values = df.isnull().sum()\n",
    "print(\"Missing values per column:\\n\", missing_values)\n",
    "\n",
    "# Handle missing values: Fill categorical NaNs with most frequent value\n",
    "cat_imputer = SimpleImputer(strategy='most_frequent')\n",
    "categorical_cols = df.select_dtypes(include=['object']).columns\n",
    "df[categorical_cols] = cat_imputer.fit_transform(df[categorical_cols])\n",
    "\n",
    "# Handle missing values: Fill numerical NaNs with median\n",
    "num_imputer = SimpleImputer(strategy='median')\n",
    "numerical_cols = df.select_dtypes(include=['int64', 'float64']).columns\n",
    "df[numerical_cols] = num_imputer.fit_transform(df[numerical_cols])\n",
    "\n"
   ]
  },
  {
   "cell_type": "code",
   "execution_count": 25,
   "id": "fea7c6a4-aafa-4699-9746-710ae47a78de",
   "metadata": {},
   "outputs": [],
   "source": [
    "# Scaling numerical features\n",
    "scaler_standard = StandardScaler()\n",
    "df_standard_scaled = df.copy()\n",
    "df_standard_scaled[numerical_cols] = scaler_standard.fit_transform(df_standard_scaled[numerical_cols])\n",
    "\n",
    "scaler_minmax = MinMaxScaler()\n",
    "df_minmax_scaled = df.copy()\n",
    "df_minmax_scaled[numerical_cols] = scaler_minmax.fit_transform(df_minmax_scaled[numerical_cols])\n"
   ]
  },
  {
   "cell_type": "code",
   "execution_count": 27,
   "id": "e589c28d-4057-4f6a-8d02-ea33c8b86034",
   "metadata": {},
   "outputs": [],
   "source": [
    "# Encoding categorical variables\n",
    "one_hot_cols = [col for col in categorical_cols if df[col].nunique() <= 5]\n",
    "label_encoded_cols = [col for col in categorical_cols if df[col].nunique() > 5]"
   ]
  },
  {
   "cell_type": "code",
   "execution_count": 29,
   "id": "2879ea6a-e2c3-4f0f-b982-bd7c76e6a901",
   "metadata": {},
   "outputs": [],
   "source": [
    "# One-Hot Encoding\n",
    "one_hot_encoder = OneHotEncoder(drop='first', sparse_output=False)\n",
    "one_hot_encoded = pd.DataFrame(one_hot_encoder.fit_transform(df[one_hot_cols]))\n",
    "one_hot_encoded.columns = one_hot_encoder.get_feature_names_out(one_hot_cols)\n",
    "df = df.drop(columns=one_hot_cols).reset_index(drop=True)\n",
    "df = pd.concat([df, one_hot_encoded], axis=1)"
   ]
  },
  {
   "cell_type": "code",
   "execution_count": 31,
   "id": "e38ba516-a5c1-4dcb-b45e-75fda576d698",
   "metadata": {},
   "outputs": [],
   "source": [
    "# Label Encoding\n",
    "label_encoder = LabelEncoder()\n",
    "for col in label_encoded_cols:\n",
    "    df[col] = label_encoder.fit_transform(df[col])"
   ]
  },
  {
   "cell_type": "code",
   "execution_count": 33,
   "id": "346568b0-828f-4d12-956c-599bcf92f434",
   "metadata": {},
   "outputs": [
    {
     "name": "stdout",
     "output_type": "stream",
     "text": [
      "Processed Data Sample:\n",
      "     age  workclass    fnlwgt  education  education_num  marital_status  \\\n",
      "0  39.0          7   77516.0          9           13.0               4   \n",
      "1  50.0          6   83311.0          9           13.0               2   \n",
      "2  38.0          4  215646.0         11            9.0               0   \n",
      "3  53.0          4  234721.0          1            7.0               2   \n",
      "4  28.0          4  338409.0          9           13.0               2   \n",
      "\n",
      "   occupation  relationship  capital_gain  capital_loss  hours_per_week  \\\n",
      "0           1             1        2174.0           0.0            40.0   \n",
      "1           4             0           0.0           0.0            13.0   \n",
      "2           6             1           0.0           0.0            40.0   \n",
      "3           6             0           0.0           0.0            40.0   \n",
      "4          10             5           0.0           0.0            40.0   \n",
      "\n",
      "   native_country  race_ Asian-Pac-Islander  race_ Black  race_ Other  \\\n",
      "0              39                       0.0          0.0          0.0   \n",
      "1              39                       0.0          0.0          0.0   \n",
      "2              39                       0.0          0.0          0.0   \n",
      "3              39                       0.0          1.0          0.0   \n",
      "4               5                       0.0          1.0          0.0   \n",
      "\n",
      "   race_ White  sex_ Male  income_ >50K  \n",
      "0          1.0        1.0           0.0  \n",
      "1          1.0        1.0           0.0  \n",
      "2          1.0        1.0           0.0  \n",
      "3          0.0        1.0           0.0  \n",
      "4          0.0        0.0           0.0  \n"
     ]
    }
   ],
   "source": [
    "# Final dataset after preprocessing\n",
    "print(\"Processed Data Sample:\\n\", df.head())"
   ]
  },
  {
   "cell_type": "code",
   "execution_count": null,
   "id": "e8b95146-5602-423e-a9f6-f19e7b677405",
   "metadata": {},
   "outputs": [],
   "source": []
  }
 ],
 "metadata": {
  "kernelspec": {
   "display_name": "Python [conda env:base] *",
   "language": "python",
   "name": "conda-base-py"
  },
  "language_info": {
   "codemirror_mode": {
    "name": "ipython",
    "version": 3
   },
   "file_extension": ".py",
   "mimetype": "text/x-python",
   "name": "python",
   "nbconvert_exporter": "python",
   "pygments_lexer": "ipython3",
   "version": "3.12.4"
  }
 },
 "nbformat": 4,
 "nbformat_minor": 5
}
